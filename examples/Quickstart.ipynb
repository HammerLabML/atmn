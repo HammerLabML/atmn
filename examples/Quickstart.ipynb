{
 "cells": [
  {
   "cell_type": "markdown",
   "id": "ca310dca",
   "metadata": {},
   "source": [
    "# Automation Toolbox for Machine learning in water Networks\n",
    "\n",
    "This notebook showcases all features of `atmn` (Automation Toolbox for Machine learning in water Networks). \n",
    "\n",
    "First, we will show you how to generate a dataset using the `atmn-generate` tool. Then we use the `atmn.ScenarioLoader` API to easily load different data from our dataset. Next, we demonstrate how `atmn-export` can be used to export data to Excel files. Lastly, we show you how to use the `atmn-visualize` tool, which can be useful for editing dataset configurations."
   ]
  },
  {
   "cell_type": "markdown",
   "id": "64ab1a98",
   "metadata": {},
   "source": [
    "## Required packages\n",
    "First, let's make sure `atmn` is installed in your current python environment. We will also use pandas to handle data in this demo, so it is also installed."
   ]
  },
  {
   "cell_type": "code",
   "execution_count": null,
   "id": "1f5c43e7",
   "metadata": {},
   "outputs": [],
   "source": [
    "# Install atmn\n",
    "!pip install atmn\n",
    "\n",
    "# Install and import pandas\n",
    "!pip install pandas\n",
    "import pandas as pd"
   ]
  },
  {
   "cell_type": "markdown",
   "id": "b8570a03",
   "metadata": {},
   "source": [
    "## Generate Data\n",
    "An example configuration containing several leak and sensor fault configurations is provided in `my_collection/configuration.xml`. It uses the water network description of the Hanoi network from `networks/Hanoi.inp`.\n",
    "\n",
    "In order to simulate the scenarios, use the `atmn-generate` command. For our purposes, we will provide the `-p` flag to run simulations in parallel. If you add new scenarios or leak configurations, the generator will only simulate the scenarios, which are not already present. If you decide to change the configuration, make sure to use the `-f` flag in order to re-generate already existing data.\n",
    "\n",
    "\n",
    "You can also use `atmn-generate -h` to view all options the generation tool offers.\n",
    "\n",
    "In case your package manager did not create the `atmn` wrappers, you can always use `python -m atmn` instead."
   ]
  },
  {
   "cell_type": "code",
   "execution_count": null,
   "id": "75674bdd",
   "metadata": {},
   "outputs": [],
   "source": [
    "# Generate the dataset\n",
    "!atmn-generate my_collection/config.xml -p"
   ]
  },
  {
   "cell_type": "markdown",
   "id": "80493076",
   "metadata": {},
   "source": [
    "## Using the Scenario Loader\n",
    "`atmn` offers the ScenarioCollection, a convenient interface to load the scenarios you just generated. For this you just need to use a single import. "
   ]
  },
  {
   "cell_type": "code",
   "execution_count": null,
   "id": "bea26c31",
   "metadata": {},
   "outputs": [],
   "source": [
    "from atmn import ScenarioCollection"
   ]
  },
  {
   "cell_type": "markdown",
   "id": "a8a5191e",
   "metadata": {},
   "source": [
    "The `ScenarioCollection` is initialized using the path to the collection. Once created, you can use it to list all available Scenarios within the collection."
   ]
  },
  {
   "cell_type": "code",
   "execution_count": null,
   "id": "26fff058",
   "metadata": {},
   "outputs": [],
   "source": [
    "# Create a ScenarioCollection for the data we just generated\n",
    "my_collection = ScenarioCollection('my_collection')\n",
    "\n",
    "# List available Scenarios within the collection\n",
    "print('Available Scenarios:', my_collection.list_scenarios())"
   ]
  },
  {
   "cell_type": "markdown",
   "id": "e07b7ff6",
   "metadata": {},
   "source": [
    "Next, you can retrieve a `Scenario` from the `ScenarioCollection` using the `get_scenario` method. The `Scenario` itself exposes which configurations it offers through the `list_configs` method. You can also query information on Leaks and Sensorfaults using the `get_leak_data` and `get_sensorfault_data` methods as shown below."
   ]
  },
  {
   "cell_type": "code",
   "execution_count": null,
   "id": "de980702",
   "metadata": {},
   "outputs": [],
   "source": [
    "# Retrieve Scenario from ScenarioCollection\n",
    "my_scenario = my_collection.get_scenario('Hanoi_One_Week')\n",
    "\n",
    "# Get the available configurations from the Scenario\n",
    "print('#' * 5, 'Available Configurations', '#' * 5)\n",
    "configs = my_scenario.list_configs()\n",
    "for config_type, cfgs in configs.items():\n",
    "    print(f'{config_type}: {cfgs}')\n",
    "\n",
    "print()\n",
    "\n",
    "# Get information about a specific Leak config\n",
    "print('#' * 5, 'Info for Leak config \"MultipleLeaks\"', '#' * 5)\n",
    "leaks = my_scenario.get_leak_data('MultipleLeaks')\n",
    "for i, leak in enumerate(leaks):\n",
    "    print(f'Leak {i}: {leak}')\n",
    "    \n",
    "print()\n",
    "\n",
    "# Get information about a specific Sensorfault config\n",
    "print('#' * 5, 'Info for Sensorfault config \"PressureAndFlow\"', '#' * 5)\n",
    "sensorfaults = my_scenario.get_sensorfault_data('PressureAndFlow')\n",
    "for i, sensorfault in enumerate(sensorfaults):\n",
    "    print(f'Sensorfault {i}: {sensorfault}')"
   ]
  },
  {
   "cell_type": "markdown",
   "id": "2b85a7d6",
   "metadata": {},
   "source": [
    "Finally, to retrieve the actual sensor data from the `Scenario`, you can use the `get` method. It requires you to choose one configuration of each type: Leak, Sensor and Sensorfault. The loader will then combine the information from these configurations and return the sensor data."
   ]
  },
  {
   "cell_type": "code",
   "execution_count": null,
   "id": "0b8dc171",
   "metadata": {},
   "outputs": [],
   "source": [
    "# Retrieve data from the Scenario\n",
    "data = my_scenario.get('MultipleLeaks', 'Sensors1', 'PressureAndFlow')\n",
    "demand = data['demand']\n",
    "flow = data['flow']\n",
    "pressure = data['pressure']\n",
    "\n",
    "print('#' * 5, 'Pressures loaded from the Scenario', '#' * 5)\n",
    "pressure"
   ]
  },
  {
   "cell_type": "markdown",
   "id": "8f54f64f",
   "metadata": {},
   "source": [
    "If you don't want to go the extra step through the `Scenario` object, you can also query all information directly from the `ScenarioCollection` using the same methods. You just have to specify the Scenario name in the first argument. For Example:"
   ]
  },
  {
   "cell_type": "code",
   "execution_count": null,
   "id": "11539e77",
   "metadata": {},
   "outputs": [],
   "source": [
    "# Get the available configurations for the Scenario \"Hanoi_One_Month\"\n",
    "print('#' * 5, 'Available Configurations (Hanoi_One_Month)', '#' * 5)\n",
    "configs = my_collection.list_configs('Hanoi_One_Month')\n",
    "for config_type, cfgs in configs.items():\n",
    "    print(f'{config_type}: {cfgs}')\n",
    "\n",
    "# Retrieve data from the Collection directly\n",
    "data = my_collection.get('Hanoi_One_Month', 'MultipleLeaks', 'Sensors1', 'PressureAndFlow')\n",
    "demand = data['demand']\n",
    "flow = data['flow']\n",
    "pressure = data['pressure']\n",
    "\n",
    "print()\n",
    "\n",
    "print('#' * 5, 'Pressures directly from the Collection', '#' * 5)\n",
    "pressure"
   ]
  },
  {
   "cell_type": "markdown",
   "id": "7b5862ef",
   "metadata": {},
   "source": [
    "## Usage Examples\n",
    "Below you can find some examples where plots are generated from the data using the `ScenarioCollection`"
   ]
  },
  {
   "cell_type": "markdown",
   "id": "d474bd3a",
   "metadata": {},
   "source": [
    "### Plotting pressure Sensor 10 in different Scenario configurations"
   ]
  },
  {
   "cell_type": "code",
   "execution_count": null,
   "id": "5231a40f",
   "metadata": {},
   "outputs": [],
   "source": [
    "# Create a dataframe for the plots\n",
    "df = pd.DataFrame()\n",
    "\n",
    "# Include a non leaky scenario with a sensorfault\n",
    "pressure = my_scenario.get('Baseline', 'Sensors1', 'JustPressure')['pressure']['10']\n",
    "df['No Leak, but Sensorfault'] = pressure\n",
    "\n",
    "# List leak configs\n",
    "leak_configs = my_scenario.list_configs()['LeakConfigs']\n",
    "leak_configs.remove('MultipleLeaks') # Remove this, so we have comparable leaks\n",
    "\n",
    "# Include different leaky scenarios without sensorfault\n",
    "# Also include the baseline scenario\n",
    "for leak_config in leak_configs:\n",
    "    pressure = my_scenario.get(leak_config, 'Sensors1', 'GT')['pressure']['10']\n",
    "    df[leak_config.replace('Pipe11', 'Leak: ')] = pressure\n",
    "\n",
    "# Plot the dataframe\n",
    "df.plot(title = 'Pressures at Node 10 over time', xlabel = 'Time [s]', ylabel = 'Pressure [m]')"
   ]
  },
  {
   "cell_type": "markdown",
   "id": "0837b32b",
   "metadata": {},
   "source": [
    "### Plotting flow Sensor 1 for different leak configs, and with a sensorfault"
   ]
  },
  {
   "cell_type": "code",
   "execution_count": null,
   "id": "0133fb6b",
   "metadata": {},
   "outputs": [],
   "source": [
    "# Create a dataframe for the plots\n",
    "df = pd.DataFrame()\n",
    "\n",
    "# Include a non leaky scenario with a sensorfault\n",
    "flow = my_scenario.get('Baseline', 'Sensors1', 'JustFlow')['flow']['1']\n",
    "df['No Leak, but Sensorfault'] = flow\n",
    "\n",
    "# List leak configs\n",
    "leak_configs = my_scenario.list_configs()['LeakConfigs']\n",
    "leak_configs = list(filter(lambda cfg: not 'Incipient' in cfg, leak_configs)) # Drop some to make plot less crowded\n",
    "\n",
    "# Include different leaky scenarios without sensorfault\n",
    "# Also include the baseline scenario\n",
    "for leak_config in leak_configs:\n",
    "    flow = my_scenario.get(leak_config, 'Sensors1', 'GT')['flow']['1']\n",
    "    df[leak_config.replace('Pipe11', 'Leak: ')] = flow\n",
    "\n",
    "# Plot the dataframe\n",
    "df.plot(title = 'Flows through Pipe 1 over time', xlabel = 'Time [s]', ylabel = 'Flow [m^3/s]')"
   ]
  },
  {
   "cell_type": "markdown",
   "id": "7a53769a",
   "metadata": {},
   "source": [
    "## Exporting\n",
    "In case you want to use your simulated data in external programs, you may need to export your Scenarioto Excel format. To do so, use the `atmn-export` tool as shown below. If you need more detailed help on how to use the exporter, use the `-h` flag."
   ]
  },
  {
   "cell_type": "code",
   "execution_count": null,
   "id": "2ec1b624",
   "metadata": {},
   "outputs": [],
   "source": [
    "# Export a configured Scenario to my_exported_scenario.xlsx\n",
    "!atmn-export my_collection Hanoi_One_Week MultipleLeaks Sensors1 PressureAndFlow my_exported_scenario"
   ]
  },
  {
   "cell_type": "markdown",
   "id": "fca962c2",
   "metadata": {},
   "source": [
    "## Visualizing\n",
    "When creating Scenario configs, it proves useful to have a visualization of the water network. To facilitate this, we also provide the `atmn-visualize` tool.\n",
    "\n",
    "If you only pass the script an `inp` file, it will just plainly plot it. If you also want to get an overview of leaks, sensors and sensorfaults, you can pass it your config file. If you decide to do so, you also need to specify which scenario to display, as well as which leak, sensor and sensorfault configs.\n",
    "\n",
    "The visualization is color-coded:\n",
    "* Leaks: Blue\n",
    "* Sensorfaults: Red\n",
    "* Sensors: Green\n",
    "\n",
    "*The upper colors take precedence. So if for example a part contains a leak and a sensor, it will be blue.*\n",
    "\n",
    "You can also specify an output file using the `--output` argument. The visualization will be saved in this file in html format. If no output file is specified, a temporary file is created and automatically opened in your browser."
   ]
  },
  {
   "cell_type": "code",
   "execution_count": null,
   "id": "a24eb222",
   "metadata": {},
   "outputs": [],
   "source": [
    "# Create a visualization of the Hanoi network\n",
    "!atmn-visualize networks/Hanoi.inp -o Hanoi_Network.html\n",
    "\n",
    "# Create a visualization including Leaks, Sensors and Sensorfaults\n",
    "!atmn-visualize my_collection/config.xml Hanoi_One_Week MultipleLeaks Sensors1 PressureAndFlow -o Hanoi_Scenario.html"
   ]
  }
 ],
 "metadata": {
  "kernelspec": {
   "display_name": "Python 3 (ipykernel)",
   "language": "python",
   "name": "python3"
  },
  "language_info": {
   "codemirror_mode": {
    "name": "ipython",
    "version": 3
   },
   "file_extension": ".py",
   "mimetype": "text/x-python",
   "name": "python",
   "nbconvert_exporter": "python",
   "pygments_lexer": "ipython3",
   "version": "3.8.15"
  }
 },
 "nbformat": 4,
 "nbformat_minor": 5
}
